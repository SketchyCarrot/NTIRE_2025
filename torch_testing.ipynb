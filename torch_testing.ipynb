{
 "cells": [
  {
   "cell_type": "code",
   "execution_count": 5,
   "metadata": {},
   "outputs": [],
   "source": [
    "import torch\n",
    "import numpy as np\n",
    "import cv2\n",
    "import matplotlib.pyplot as plt\n",
    "from torchvision import transforms"
   ]
  },
  {
   "cell_type": "code",
   "execution_count": 6,
   "metadata": {},
   "outputs": [],
   "source": [
    "def split_into_patches(image, patch_size=256, overlap=64):\n",
    "    \"\"\"Splits an image into overlapping patches of size patch_size x patch_size.\"\"\"\n",
    "    h, w, c = image.shape\n",
    "    step = patch_size - overlap\n",
    "    patches = []\n",
    "    coordinates = []\n",
    "    \n",
    "    for y in range(0, h - overlap, step):\n",
    "        for x in range(0, w - overlap, step):\n",
    "            y_end = min(y + patch_size, h)\n",
    "            x_end = min(x + patch_size, w)\n",
    "            patch = image[y:y_end, x:x_end]\n",
    "            \n",
    "            if patch.shape[0] < patch_size or patch.shape[1] < patch_size:\n",
    "                # Pad the patch if it's smaller than expected\n",
    "                pad_h = patch_size - patch.shape[0]\n",
    "                pad_w = patch_size - patch.shape[1]\n",
    "                patch = np.pad(patch, ((0, pad_h), (0, pad_w), (0, 0)), mode='reflect')\n",
    "            \n",
    "            patches.append(patch)\n",
    "            coordinates.append((y, x))\n",
    "    \n",
    "    return np.array(patches), coordinates"
   ]
  },
  {
   "cell_type": "code",
   "execution_count": 7,
   "metadata": {},
   "outputs": [],
   "source": [
    "def predict_on_patches(model, patches, device):\n",
    "    \"\"\"Runs inference on all patches and returns RGB predictions.\"\"\"\n",
    "    model.eval()\n",
    "    transform = transforms.Compose([\n",
    "        transforms.ToTensor(),\n",
    "        transforms.Normalize(mean=[0.5, 0.5, 0.5], std=[0.5, 0.5, 0.5])  # Adjust based on your model\n",
    "    ])\n",
    "    \n",
    "    results = []\n",
    "    with torch.no_grad():\n",
    "        for patch in patches:\n",
    "            patch = transform(patch).unsqueeze(0).to(device)\n",
    "            output = model(patch)  # Expected to output RGB image\n",
    "            results.append(output.cpu().numpy().squeeze().transpose(1, 2, 0))\n",
    "    \n",
    "    return np.array(results)"
   ]
  },
  {
   "cell_type": "code",
   "execution_count": 8,
   "metadata": {},
   "outputs": [],
   "source": [
    "def stitch_patches(patches, coordinates, image_shape, patch_size=256, overlap=64):\n",
    "    \"\"\"Reconstructs the full RGB image from patches using averaging at overlapping areas.\"\"\"\n",
    "    h, w, c = image_shape\n",
    "    step = patch_size - overlap\n",
    "    stitched_image = np.zeros((h, w, 3))  # Ensure 3-channel output\n",
    "    weight_map = np.zeros((h, w, 1))\n",
    "    \n",
    "    for patch, (y, x) in zip(patches, coordinates):\n",
    "        y_end = min(y + patch_size, h)\n",
    "        x_end = min(x + patch_size, w)\n",
    "        patch_h = y_end - y\n",
    "        patch_w = x_end - x\n",
    "        \n",
    "        stitched_image[y:y_end, x:x_end] += patch[:patch_h, :patch_w]\n",
    "        weight_map[y:y_end, x:x_end] += 1\n",
    "    \n",
    "    return np.clip(stitched_image / weight_map, 0, 255).astype(np.uint8)  # Normalize and clip values"
   ]
  },
  {
   "cell_type": "code",
   "execution_count": 9,
   "metadata": {},
   "outputs": [],
   "source": [
    "def main(model_path, image_path):\n",
    "    device = torch.device('cuda' if torch.cuda.is_available() else 'cpu')\n",
    "    model = torch.load(model_path, map_location=device)\n",
    "    \n",
    "    image = cv2.imread(image_path)\n",
    "    image = cv2.cvtColor(image, cv2.COLOR_BGR2RGB)\n",
    "    \n",
    "    patches, coordinates = split_into_patches(image)\n",
    "    predictions = predict_on_patches(model, patches, device)\n",
    "    \n",
    "    stitched_image = stitch_patches(predictions, coordinates, image.shape)\n",
    "    \n",
    "    # Plot original and predicted image\n",
    "    plt.figure(figsize=(12, 6))\n",
    "    plt.subplot(1, 2, 1)\n",
    "    plt.imshow(image)\n",
    "    plt.title(\"Original Image\")\n",
    "    plt.axis(\"off\")\n",
    "    \n",
    "    plt.subplot(1, 2, 2)\n",
    "    plt.imshow(stitched_image)\n",
    "    plt.title(\"Predicted Image\")\n",
    "    plt.axis(\"off\")\n",
    "    \n",
    "    plt.show()"
   ]
  },
  {
   "cell_type": "code",
   "execution_count": 10,
   "metadata": {},
   "outputs": [],
   "source": [
    "model_path = r\"C:\\Users\\91909\\Desktop\\ML\\NTIRE_2025\\best_model.pth\"\n",
    "test_image = r\"C:\\Users\\91909\\Desktop\\ML\\DATA\\NTIRE\\test\\LSDIR_DIV2K_Test_Sigma50\\0000089.png\""
   ]
  },
  {
   "cell_type": "code",
   "execution_count": null,
   "metadata": {},
   "outputs": [],
   "source": [
    "main('model.pth', 'input.jpg')"
   ]
  }
 ],
 "metadata": {
  "kernelspec": {
   "display_name": "Python 3",
   "language": "python",
   "name": "python3"
  },
  "language_info": {
   "codemirror_mode": {
    "name": "ipython",
    "version": 3
   },
   "file_extension": ".py",
   "mimetype": "text/x-python",
   "name": "python",
   "nbconvert_exporter": "python",
   "pygments_lexer": "ipython3",
   "version": "3.10.0"
  }
 },
 "nbformat": 4,
 "nbformat_minor": 2
}
