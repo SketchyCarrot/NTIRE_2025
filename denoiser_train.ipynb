{
 "cells": [
  {
   "cell_type": "code",
   "execution_count": 27,
   "metadata": {},
   "outputs": [],
   "source": [
    "import os\n",
    "import numpy as np\n",
    "import tensorflow as tf\n",
    "from tensorflow import keras\n",
    "from tensorflow.keras import layers\n",
    "from tensorflow.keras.preprocessing.image import ImageDataGenerator\n",
    "import cv2\n",
    "from glob import glob"
   ]
  },
  {
   "cell_type": "code",
   "execution_count": null,
   "metadata": {},
   "outputs": [],
   "source": [
    "clean_folder_path = r\"C:\\Users\\91909\\Desktop\\ML\\DATA\\NTIRE\\clean_data\\DIV2K\\DIV2K_train_HR\\DIV2K_train_HR\"\n",
    "noisy_folder_path = r\"C:\\Users\\91909\\Desktop\\ML\\DATA\\NTIRE\\noisy_data\\DIV2K\\DIV2K_train_HR\\DIV2K_train_HR\"\n",
    "\n",
    "test_folder_path = r\"C:\\Users\\91909\\Desktop\\ML\\DATA\\NTIRE\\clean_data\\DIV2K\\noise\\noise\"\n",
    "save_folder_path = r\"C:\\Users\\91909\\Desktop\\ML\\DATA\\NTIRE\\clean_data\\DIV2K\\noise\\noise_cleaned_test\""
   ]
  },
  {
   "cell_type": "code",
   "execution_count": 29,
   "metadata": {},
   "outputs": [],
   "source": [
    "PATCH_SIZE = 128"
   ]
  },
  {
   "cell_type": "code",
   "execution_count": 30,
   "metadata": {},
   "outputs": [],
   "source": [
    "def load_image(filename):\n",
    "    img = cv2.imread(filename, cv2.IMREAD_COLOR)\n",
    "    img = img.astype('float32') / 255.0\n",
    "    return img"
   ]
  },
  {
   "cell_type": "code",
   "execution_count": 31,
   "metadata": {},
   "outputs": [],
   "source": [
    "def extract_patches(image, patch_size=PATCH_SIZE):\n",
    "    h, w, _ = image.shape\n",
    "    patches, positions = [], []\n",
    "    \n",
    "    for i in range(0, h, patch_size):\n",
    "        for j in range(0, w, patch_size):\n",
    "            patch = image[i:i+patch_size, j:j+patch_size]\n",
    "            if patch.shape[0] == patch_size and patch.shape[1] == patch_size:\n",
    "                patches.append(patch)\n",
    "                positions.append((i, j))\n",
    "            else:\n",
    "                pad_patch = np.zeros((patch_size, patch_size, 3), dtype=np.float32)\n",
    "                pad_patch[:patch.shape[0], :patch.shape[1]] = patch\n",
    "                patches.append(pad_patch)\n",
    "                positions.append((i, j))\n",
    "    \n",
    "    return np.array(patches), positions, (h, w)"
   ]
  },
  {
   "cell_type": "code",
   "execution_count": 32,
   "metadata": {},
   "outputs": [],
   "source": [
    "def stitch_patches(patches, positions, image_size):\n",
    "    h, w = image_size\n",
    "    stitched_image = np.zeros((h, w, 3), dtype=np.float32)\n",
    "    count_map = np.zeros((h, w, 3), dtype=np.float32)\n",
    "    \n",
    "    for patch, (i, j) in zip(patches, positions):\n",
    "        stitched_image[i:i+PATCH_SIZE, j:j+PATCH_SIZE] += patch\n",
    "        count_map[i:i+PATCH_SIZE, j:j+PATCH_SIZE] += 1\n",
    "    \n",
    "    stitched_image /= np.maximum(count_map, 1)\n",
    "    return (stitched_image * 255).astype(np.uint8)"
   ]
  },
  {
   "cell_type": "code",
   "execution_count": 33,
   "metadata": {},
   "outputs": [],
   "source": [
    "def build_denoising_model(input_shape=(PATCH_SIZE, PATCH_SIZE, 3)):\n",
    "    inputs = layers.Input(shape=input_shape)\n",
    "    x = layers.Conv2D(64, (3, 3), activation='relu', padding='same')(inputs)\n",
    "    x = layers.Conv2D(64, (3, 3), activation='relu', padding='same')(x)\n",
    "    x = layers.Conv2DTranspose(3, (3, 3), activation='sigmoid', padding='same')(x)\n",
    "    model = keras.Model(inputs, x)\n",
    "    model.compile(optimizer='adam', loss='mse')\n",
    "    return model"
   ]
  },
  {
   "cell_type": "code",
   "execution_count": 34,
   "metadata": {},
   "outputs": [],
   "source": [
    "model = build_denoising_model()"
   ]
  },
  {
   "cell_type": "code",
   "execution_count": 35,
   "metadata": {},
   "outputs": [
    {
     "name": "stdout",
     "output_type": "stream",
     "text": [
      "Model: \"model_2\"\n",
      "_________________________________________________________________\n",
      " Layer (type)                Output Shape              Param #   \n",
      "=================================================================\n",
      " input_3 (InputLayer)        [(None, 128, 128, 3)]     0         \n",
      "                                                                 \n",
      " conv2d_4 (Conv2D)           (None, 128, 128, 64)      1792      \n",
      "                                                                 \n",
      " conv2d_5 (Conv2D)           (None, 128, 128, 64)      36928     \n",
      "                                                                 \n",
      " conv2d_transpose_2 (Conv2DT  (None, 128, 128, 3)      1731      \n",
      " ranspose)                                                       \n",
      "                                                                 \n",
      "=================================================================\n",
      "Total params: 40,451\n",
      "Trainable params: 40,451\n",
      "Non-trainable params: 0\n",
      "_________________________________________________________________\n"
     ]
    }
   ],
   "source": [
    "model.summary()"
   ]
  },
  {
   "cell_type": "code",
   "execution_count": 36,
   "metadata": {},
   "outputs": [],
   "source": [
    "def data_generator(clean_folder, noisy_folder, batch_size=8):\n",
    "    datagen = ImageDataGenerator()\n",
    "    clean_gen = datagen.flow_from_directory(clean_folder, target_size=(PATCH_SIZE, PATCH_SIZE), batch_size=batch_size, class_mode=None)\n",
    "    noisy_gen = datagen.flow_from_directory(noisy_folder, target_size=(PATCH_SIZE, PATCH_SIZE), batch_size=batch_size, class_mode=None)\n",
    "    \n",
    "    while True:\n",
    "        clean_batch = next(clean_gen)\n",
    "        noisy_batch = next(noisy_gen)\n",
    "        yield noisy_batch, clean_batch"
   ]
  },
  {
   "cell_type": "code",
   "execution_count": 37,
   "metadata": {},
   "outputs": [],
   "source": [
    "import matplotlib.pyplot as plt\n",
    "def printplot(history):\n",
    "        plt.figure(figsize=(15, 5))\n",
    "        plt.subplot(1, 2, 1)\n",
    "        plt.plot(history.history[\"accuracy\"], color=\"red\", label=\"train\")\n",
    "        plt.plot(history.history[\"val_accuracy\"], color=\"blue\", label=\"validation\")\n",
    "        plt.title(\"Graph of accuracy over epochs\")\n",
    "        plt.legend()\n",
    "\n",
    "        plt.subplot(1, 2, 2)\n",
    "        plt.plot(history.history[\"loss\"], color=\"red\", label=\"train\")\n",
    "        plt.plot(history.history[\"val_loss\"], color=\"blue\", label=\"validation\")\n",
    "        plt.title(\"Graph of loss over epochs\")\n",
    "        plt.legend()"
   ]
  },
  {
   "cell_type": "code",
   "execution_count": 38,
   "metadata": {},
   "outputs": [],
   "source": [
    "def train_model(clean_folder, noisy_folder, epochs=10, batch_size=8):\n",
    "    train_data = data_generator(clean_folder, noisy_folder, batch_size)\n",
    "    steps_per_epoch = len(glob(os.path.join(clean_folder, '*'))) // batch_size\n",
    "    history = model.fit(train_data, steps_per_epoch=steps_per_epoch, epochs=epochs)\n",
    "    printplot(history)\n",
    "    model.save('denoising_model.h5')\n",
    "    return model"
   ]
  },
  {
   "cell_type": "code",
   "execution_count": 39,
   "metadata": {},
   "outputs": [],
   "source": [
    "def predict_images(model, noisy_folder, output_folder):\n",
    "    os.makedirs(output_folder, exist_ok=True)\n",
    "    noisy_images = glob(os.path.join(noisy_folder, '*'))\n",
    "    \n",
    "    for idx, filename in enumerate(noisy_images):\n",
    "        img = load_image(filename)\n",
    "        patches, positions, img_size = extract_patches(img)\n",
    "        denoised_patches = model.predict(patches)\n",
    "        denoised_img = stitch_patches(denoised_patches, positions, img_size)\n",
    "        \n",
    "        cv2.imwrite(os.path.join(output_folder, f'denoised_{idx}.png'), denoised_img)"
   ]
  },
  {
   "cell_type": "code",
   "execution_count": 40,
   "metadata": {},
   "outputs": [
    {
     "name": "stdout",
     "output_type": "stream",
     "text": [
      "Found 0 images belonging to 0 classes.\n",
      "Found 0 images belonging to 0 classes.\n",
      "Epoch 1/20\n",
      "100/100 [==============================] - 1s 6ms/step - loss: 0.0000e+00\n",
      "Epoch 2/20\n",
      "100/100 [==============================] - 1s 5ms/step - loss: 0.0000e+00\n",
      "Epoch 3/20\n",
      "100/100 [==============================] - 1s 6ms/step - loss: 0.0000e+00\n",
      "Epoch 4/20\n",
      "100/100 [==============================] - 1s 6ms/step - loss: 0.0000e+00\n",
      "Epoch 5/20\n",
      "100/100 [==============================] - 1s 5ms/step - loss: 0.0000e+00\n",
      "Epoch 6/20\n",
      "100/100 [==============================] - 1s 7ms/step - loss: 0.0000e+00\n",
      "Epoch 7/20\n",
      "100/100 [==============================] - 1s 6ms/step - loss: 0.0000e+00\n",
      "Epoch 8/20\n",
      "100/100 [==============================] - 1s 6ms/step - loss: 0.0000e+00\n",
      "Epoch 9/20\n",
      "100/100 [==============================] - 1s 5ms/step - loss: 0.0000e+00\n",
      "Epoch 10/20\n",
      "100/100 [==============================] - 1s 6ms/step - loss: 0.0000e+00\n",
      "Epoch 11/20\n",
      "100/100 [==============================] - 0s 5ms/step - loss: 0.0000e+00\n",
      "Epoch 12/20\n",
      "100/100 [==============================] - 0s 5ms/step - loss: 0.0000e+00\n",
      "Epoch 13/20\n",
      "100/100 [==============================] - 0s 5ms/step - loss: 0.0000e+00\n",
      "Epoch 14/20\n",
      "100/100 [==============================] - 1s 5ms/step - loss: 0.0000e+00\n",
      "Epoch 15/20\n",
      "100/100 [==============================] - 1s 5ms/step - loss: 0.0000e+00\n",
      "Epoch 16/20\n",
      "100/100 [==============================] - 1s 5ms/step - loss: 0.0000e+00\n",
      "Epoch 17/20\n",
      "100/100 [==============================] - 1s 5ms/step - loss: 0.0000e+00\n",
      "Epoch 18/20\n",
      "100/100 [==============================] - 1s 6ms/step - loss: 0.0000e+00\n",
      "Epoch 19/20\n",
      "100/100 [==============================] - 0s 5ms/step - loss: 0.0000e+00\n",
      "Epoch 20/20\n",
      "100/100 [==============================] - 0s 5ms/step - loss: 0.0000e+00\n"
     ]
    },
    {
     "ename": "KeyError",
     "evalue": "'accuracy'",
     "output_type": "error",
     "traceback": [
      "\u001b[1;31m---------------------------------------------------------------------------\u001b[0m",
      "\u001b[1;31mKeyError\u001b[0m                                  Traceback (most recent call last)",
      "Cell \u001b[1;32mIn[40], line 1\u001b[0m\n\u001b[1;32m----> 1\u001b[0m \u001b[43mtrain_model\u001b[49m\u001b[43m(\u001b[49m\u001b[43mclean_folder_path\u001b[49m\u001b[43m,\u001b[49m\u001b[43m \u001b[49m\u001b[43mnoisy_folder_path\u001b[49m\u001b[43m,\u001b[49m\u001b[43m \u001b[49m\u001b[43mepochs\u001b[49m\u001b[38;5;241;43m=\u001b[39;49m\u001b[38;5;241;43m20\u001b[39;49m\u001b[43m,\u001b[49m\u001b[43m \u001b[49m\u001b[43mbatch_size\u001b[49m\u001b[38;5;241;43m=\u001b[39;49m\u001b[38;5;241;43m8\u001b[39;49m\u001b[43m)\u001b[49m\n",
      "Cell \u001b[1;32mIn[38], line 5\u001b[0m, in \u001b[0;36mtrain_model\u001b[1;34m(clean_folder, noisy_folder, epochs, batch_size)\u001b[0m\n\u001b[0;32m      3\u001b[0m steps_per_epoch \u001b[38;5;241m=\u001b[39m \u001b[38;5;28mlen\u001b[39m(glob(os\u001b[38;5;241m.\u001b[39mpath\u001b[38;5;241m.\u001b[39mjoin(clean_folder, \u001b[38;5;124m'\u001b[39m\u001b[38;5;124m*\u001b[39m\u001b[38;5;124m'\u001b[39m))) \u001b[38;5;241m/\u001b[39m\u001b[38;5;241m/\u001b[39m batch_size\n\u001b[0;32m      4\u001b[0m history \u001b[38;5;241m=\u001b[39m model\u001b[38;5;241m.\u001b[39mfit(train_data, steps_per_epoch\u001b[38;5;241m=\u001b[39msteps_per_epoch, epochs\u001b[38;5;241m=\u001b[39mepochs)\n\u001b[1;32m----> 5\u001b[0m \u001b[43mprintplot\u001b[49m\u001b[43m(\u001b[49m\u001b[43mhistory\u001b[49m\u001b[43m)\u001b[49m\n\u001b[0;32m      6\u001b[0m model\u001b[38;5;241m.\u001b[39msave(\u001b[38;5;124m'\u001b[39m\u001b[38;5;124mdenoising_model.h5\u001b[39m\u001b[38;5;124m'\u001b[39m)\n\u001b[0;32m      7\u001b[0m \u001b[38;5;28;01mreturn\u001b[39;00m model\n",
      "Cell \u001b[1;32mIn[37], line 5\u001b[0m, in \u001b[0;36mprintplot\u001b[1;34m(history)\u001b[0m\n\u001b[0;32m      3\u001b[0m plt\u001b[38;5;241m.\u001b[39mfigure(figsize\u001b[38;5;241m=\u001b[39m(\u001b[38;5;241m15\u001b[39m, \u001b[38;5;241m5\u001b[39m))\n\u001b[0;32m      4\u001b[0m plt\u001b[38;5;241m.\u001b[39msubplot(\u001b[38;5;241m1\u001b[39m, \u001b[38;5;241m2\u001b[39m, \u001b[38;5;241m1\u001b[39m)\n\u001b[1;32m----> 5\u001b[0m plt\u001b[38;5;241m.\u001b[39mplot(\u001b[43mhistory\u001b[49m\u001b[38;5;241;43m.\u001b[39;49m\u001b[43mhistory\u001b[49m\u001b[43m[\u001b[49m\u001b[38;5;124;43m\"\u001b[39;49m\u001b[38;5;124;43maccuracy\u001b[39;49m\u001b[38;5;124;43m\"\u001b[39;49m\u001b[43m]\u001b[49m, color\u001b[38;5;241m=\u001b[39m\u001b[38;5;124m\"\u001b[39m\u001b[38;5;124mred\u001b[39m\u001b[38;5;124m\"\u001b[39m, label\u001b[38;5;241m=\u001b[39m\u001b[38;5;124m\"\u001b[39m\u001b[38;5;124mtrain\u001b[39m\u001b[38;5;124m\"\u001b[39m)\n\u001b[0;32m      6\u001b[0m plt\u001b[38;5;241m.\u001b[39mplot(history\u001b[38;5;241m.\u001b[39mhistory[\u001b[38;5;124m\"\u001b[39m\u001b[38;5;124mval_accuracy\u001b[39m\u001b[38;5;124m\"\u001b[39m], color\u001b[38;5;241m=\u001b[39m\u001b[38;5;124m\"\u001b[39m\u001b[38;5;124mblue\u001b[39m\u001b[38;5;124m\"\u001b[39m, label\u001b[38;5;241m=\u001b[39m\u001b[38;5;124m\"\u001b[39m\u001b[38;5;124mvalidation\u001b[39m\u001b[38;5;124m\"\u001b[39m)\n\u001b[0;32m      7\u001b[0m plt\u001b[38;5;241m.\u001b[39mtitle(\u001b[38;5;124m\"\u001b[39m\u001b[38;5;124mGraph of accuracy over epochs\u001b[39m\u001b[38;5;124m\"\u001b[39m)\n",
      "\u001b[1;31mKeyError\u001b[0m: 'accuracy'"
     ]
    },
    {
     "data": {
      "image/png": "[encoded data removed]",
      "text/plain": [
       "<Figure size 1500x500 with 1 Axes>"
      ]
     },
     "metadata": {},
     "output_type": "display_data"
    }
   ],
   "source": [
    "train_model(clean_folder_path, noisy_folder_path, epochs=20, batch_size=8)"
   ]
  },
  {
   "cell_type": "code",
   "execution_count": 41,
   "metadata": {},
   "outputs": [
    {
     "name": "stdout",
     "output_type": "stream",
     "text": [
      "6/6 [==============================] - 9s 140ms/step\n"
     ]
    },
    {
     "ename": "ValueError",
     "evalue": "operands could not be broadcast together with shapes (128,120,3) (128,128,3) (128,120,3) ",
     "output_type": "error",
     "traceback": [
      "\u001b[1;31m---------------------------------------------------------------------------\u001b[0m",
      "\u001b[1;31mValueError\u001b[0m                                Traceback (most recent call last)",
      "Cell \u001b[1;32mIn[41], line 1\u001b[0m\n\u001b[1;32m----> 1\u001b[0m \u001b[43mpredict_images\u001b[49m\u001b[43m(\u001b[49m\u001b[43mmodel\u001b[49m\u001b[43m,\u001b[49m\u001b[43m \u001b[49m\u001b[38;5;124;43mr\u001b[39;49m\u001b[38;5;124;43m\"\u001b[39;49m\u001b[38;5;124;43mC:\u001b[39;49m\u001b[38;5;124;43m\\\u001b[39;49m\u001b[38;5;124;43mUsers\u001b[39;49m\u001b[38;5;124;43m\\\u001b[39;49m\u001b[38;5;124;43m91909\u001b[39;49m\u001b[38;5;124;43m\\\u001b[39;49m\u001b[38;5;124;43mDesktop\u001b[39;49m\u001b[38;5;124;43m\\\u001b[39;49m\u001b[38;5;124;43mML\u001b[39;49m\u001b[38;5;124;43m\\\u001b[39;49m\u001b[38;5;124;43mDATA\u001b[39;49m\u001b[38;5;124;43m\\\u001b[39;49m\u001b[38;5;124;43mNTIRE\u001b[39;49m\u001b[38;5;124;43m\\\u001b[39;49m\u001b[38;5;124;43mclean_data\u001b[39;49m\u001b[38;5;124;43m\\\u001b[39;49m\u001b[38;5;124;43mDIV2K\u001b[39;49m\u001b[38;5;124;43m\\\u001b[39;49m\u001b[38;5;124;43mnoise\u001b[39;49m\u001b[38;5;124;43m\\\u001b[39;49m\u001b[38;5;124;43mnoise\u001b[39;49m\u001b[38;5;124;43m\"\u001b[39;49m\u001b[43m,\u001b[49m\u001b[38;5;124;43mr\u001b[39;49m\u001b[38;5;124;43m\"\u001b[39;49m\u001b[38;5;124;43mC:\u001b[39;49m\u001b[38;5;124;43m\\\u001b[39;49m\u001b[38;5;124;43mUsers\u001b[39;49m\u001b[38;5;124;43m\\\u001b[39;49m\u001b[38;5;124;43m91909\u001b[39;49m\u001b[38;5;124;43m\\\u001b[39;49m\u001b[38;5;124;43mDesktop\u001b[39;49m\u001b[38;5;124;43m\\\u001b[39;49m\u001b[38;5;124;43mML\u001b[39;49m\u001b[38;5;124;43m\\\u001b[39;49m\u001b[38;5;124;43mDATA\u001b[39;49m\u001b[38;5;124;43m\\\u001b[39;49m\u001b[38;5;124;43mNTIRE\u001b[39;49m\u001b[38;5;124;43m\\\u001b[39;49m\u001b[38;5;124;43mclean_data\u001b[39;49m\u001b[38;5;124;43m\\\u001b[39;49m\u001b[38;5;124;43mDIV2K\u001b[39;49m\u001b[38;5;124;43m\\\u001b[39;49m\u001b[38;5;124;43mnoise\u001b[39;49m\u001b[38;5;124;43m\\\u001b[39;49m\u001b[38;5;124;43mnoise_cleaned_test\u001b[39;49m\u001b[38;5;124;43m\"\u001b[39;49m\u001b[43m)\u001b[49m\n",
      "Cell \u001b[1;32mIn[39], line 9\u001b[0m, in \u001b[0;36mpredict_images\u001b[1;34m(model, noisy_folder, output_folder)\u001b[0m\n\u001b[0;32m      7\u001b[0m patches, positions, img_size \u001b[38;5;241m=\u001b[39m extract_patches(img)\n\u001b[0;32m      8\u001b[0m denoised_patches \u001b[38;5;241m=\u001b[39m model\u001b[38;5;241m.\u001b[39mpredict(patches)\n\u001b[1;32m----> 9\u001b[0m denoised_img \u001b[38;5;241m=\u001b[39m \u001b[43mstitch_patches\u001b[49m\u001b[43m(\u001b[49m\u001b[43mdenoised_patches\u001b[49m\u001b[43m,\u001b[49m\u001b[43m \u001b[49m\u001b[43mpositions\u001b[49m\u001b[43m,\u001b[49m\u001b[43m \u001b[49m\u001b[43mimg_size\u001b[49m\u001b[43m)\u001b[49m\n\u001b[0;32m     11\u001b[0m cv2\u001b[38;5;241m.\u001b[39mimwrite(os\u001b[38;5;241m.\u001b[39mpath\u001b[38;5;241m.\u001b[39mjoin(output_folder, \u001b[38;5;124mf\u001b[39m\u001b[38;5;124m'\u001b[39m\u001b[38;5;124mdenoised_\u001b[39m\u001b[38;5;132;01m{\u001b[39;00midx\u001b[38;5;132;01m}\u001b[39;00m\u001b[38;5;124m.png\u001b[39m\u001b[38;5;124m'\u001b[39m), denoised_img)\n",
      "Cell \u001b[1;32mIn[32], line 7\u001b[0m, in \u001b[0;36mstitch_patches\u001b[1;34m(patches, positions, image_size)\u001b[0m\n\u001b[0;32m      4\u001b[0m count_map \u001b[38;5;241m=\u001b[39m np\u001b[38;5;241m.\u001b[39mzeros((h, w, \u001b[38;5;241m3\u001b[39m), dtype\u001b[38;5;241m=\u001b[39mnp\u001b[38;5;241m.\u001b[39mfloat32)\n\u001b[0;32m      6\u001b[0m \u001b[38;5;28;01mfor\u001b[39;00m patch, (i, j) \u001b[38;5;129;01min\u001b[39;00m \u001b[38;5;28mzip\u001b[39m(patches, positions):\n\u001b[1;32m----> 7\u001b[0m     stitched_image[i:i\u001b[38;5;241m+\u001b[39mPATCH_SIZE, j:j\u001b[38;5;241m+\u001b[39mPATCH_SIZE] \u001b[38;5;241m+\u001b[39m\u001b[38;5;241m=\u001b[39m patch\n\u001b[0;32m      8\u001b[0m     count_map[i:i\u001b[38;5;241m+\u001b[39mPATCH_SIZE, j:j\u001b[38;5;241m+\u001b[39mPATCH_SIZE] \u001b[38;5;241m+\u001b[39m\u001b[38;5;241m=\u001b[39m \u001b[38;5;241m1\u001b[39m\n\u001b[0;32m     10\u001b[0m stitched_image \u001b[38;5;241m/\u001b[39m\u001b[38;5;241m=\u001b[39m np\u001b[38;5;241m.\u001b[39mmaximum(count_map, \u001b[38;5;241m1\u001b[39m)\n",
      "\u001b[1;31mValueError\u001b[0m: operands could not be broadcast together with shapes (128,120,3) (128,128,3) (128,120,3) "
     ]
    }
   ],
   "source": [
    "predict_images(model, r\"C:\\Users\\91909\\Desktop\\ML\\DATA\\NTIRE\\clean_data\\DIV2K\\noise\\noise\",r\"C:\\Users\\91909\\Desktop\\ML\\DATA\\NTIRE\\clean_data\\DIV2K\\noise\\noise_cleaned_test\")"
   ]
  },
  {
   "cell_type": "code",
   "execution_count": null,
   "metadata": {},
   "outputs": [],
   "source": []
  }
 ],
 "metadata": {
  "kernelspec": {
   "display_name": "Python 3",
   "language": "python",
   "name": "python3"
  },
  "language_info": {
   "codemirror_mode": {
    "name": "ipython",
    "version": 3
   },
   "file_extension": ".py",
   "mimetype": "text/x-python",
   "name": "python",
   "nbconvert_exporter": "python",
   "pygments_lexer": "ipython3",
   "version": "3.10.0"
  }
 },
 "nbformat": 4,
 "nbformat_minor": 2
}
