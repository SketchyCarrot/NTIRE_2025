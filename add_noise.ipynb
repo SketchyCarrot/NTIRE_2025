{
 "cells": [
  {
   "cell_type": "code",
   "execution_count": 3,
   "metadata": {},
   "outputs": [],
   "source": [
    "import os\n",
    "import cv2\n",
    "import numpy as np"
   ]
  },
  {
   "cell_type": "code",
   "execution_count": 4,
   "metadata": {},
   "outputs": [],
   "source": [
    "input_folder = r\"C:\\Users\\91909\\Desktop\\ML\\DATA\\NTIRE\\clean_data\"\n",
    "output_folder = r\"C:\\Users\\91909\\Desktop\\ML\\DATA\\NTIRE\\noisy_data\""
   ]
  },
  {
   "cell_type": "code",
   "execution_count": 5,
   "metadata": {},
   "outputs": [],
   "source": [
    "\n",
    "def add_noise(image, sigma=50):\n",
    "    image = np.array(image / 255, dtype=float)\n",
    "    noise = np.random.normal(0, sigma / 255, image.shape)\n",
    "    noisy_image = image + noise\n",
    "    noisy_image = np.clip(noisy_image * 255, 0, 255).astype(np.uint8)\n",
    "    return noisy_image"
   ]
  },
  {
   "cell_type": "code",
   "execution_count": 6,
   "metadata": {},
   "outputs": [],
   "source": [
    "def process_images(input_folder, output_folder, sigma=50):\n",
    "    for root, _, files in os.walk(input_folder):\n",
    "        relative_path = os.path.relpath(root, input_folder)\n",
    "        output_subfolder = os.path.join(output_folder, relative_path)\n",
    "        \n",
    "        if not os.path.exists(output_subfolder):\n",
    "            os.makedirs(output_subfolder)\n",
    "        \n",
    "        for filename in files:\n",
    "            img_path = os.path.join(root, filename)\n",
    "            img = cv2.imread(img_path)\n",
    "            if img is None:\n",
    "                continue\n",
    "\n",
    "            noisy_img = add_noise(img, sigma)\n",
    "            output_path = os.path.join(output_subfolder, filename)\n",
    "            cv2.imwrite(output_path, noisy_img)\n",
    "    \n",
    "    print(\"Processing complete. Noisy images saved in:\", output_folder)"
   ]
  },
  {
   "cell_type": "code",
   "execution_count": 7,
   "metadata": {},
   "outputs": [
    {
     "name": "stdout",
     "output_type": "stream",
     "text": [
      "Processing complete. Noisy images saved in: C:\\Users\\91909\\Desktop\\ML\\DATA\\NTIRE\\noisy_data\n"
     ]
    }
   ],
   "source": [
    "process_images(input_folder, output_folder, sigma=50)"
   ]
  }
 ],
 "metadata": {
  "kernelspec": {
   "display_name": "Python 3",
   "language": "python",
   "name": "python3"
  },
  "language_info": {
   "codemirror_mode": {
    "name": "ipython",
    "version": 3
   },
   "file_extension": ".py",
   "mimetype": "text/x-python",
   "name": "python",
   "nbconvert_exporter": "python",
   "pygments_lexer": "ipython3",
   "version": "3.10.0"
  }
 },
 "nbformat": 4,
 "nbformat_minor": 2
}
